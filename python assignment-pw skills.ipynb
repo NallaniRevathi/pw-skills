{
 "cells": [
  {
   "cell_type": "markdown",
   "id": "04b2dadb",
   "metadata": {},
   "source": [
    "# PYTHON BASICS ASSIGNMENT"
   ]
  },
  {
   "cell_type": "markdown",
   "id": "de135523",
   "metadata": {},
   "source": [
    "# 1.Explain the key features of Python that make it a popular choice for programming"
   ]
  },
  {
   "cell_type": "markdown",
   "id": "cbbe51b1",
   "metadata": {},
   "source": [
    "Python is very popular in many features which are\n",
    "1.Readability and simplicity:\n",
    "           Python syntax are clean and easy to learn and write,which makes accessible forbeginners and developers to wride code easily.\n",
    "2.Comprehensive standard library:\n",
    "        python comes with arobust standard library that include modules and many packages which can easily access.\n",
    "3.Dynamic Typing:\n",
    "         variables types are very dynamic and flexible to write and cn write codes faster without any mistakes.\n",
    "4.Interpreted Language:\n",
    "         Python is an interpreted and is executed line by line while compiling,this makes it easier to test and debug.\n",
    "5.Community and Documentation:\n",
    "         Python has extensive libraries and documentation that provides support and easier for developers to help and learn from others.\n",
    "         hence python is very powerful and versatile and user friendly programming language.\n",
    "         \n"
   ]
  },
  {
   "cell_type": "markdown",
   "id": "d76774dd",
   "metadata": {},
   "source": [
    "# 2.Describe the role of predefined keywords in Python and provide examples of how they are used in a Program"
   ]
  },
  {
   "cell_type": "markdown",
   "id": "b0f02832",
   "metadata": {},
   "source": [
    "In python, predefined keywords are reserved words that have special meaning in the languages syntax and cannot be used for variable names.and these have specific role in controlling the flow,python has some predefined keywords to use in program.\n",
    "BOOLEAN values:whuch us used to check wether condition is true or not.\n",
    "AND,OR,NOT:which are logical operators to check more than 2 conditions.\n",
    "like this DEF,RETURN,BREAK,PRINT,ADD,STR,INT,FLOAT many predefined keywords are there."
   ]
  },
  {
   "cell_type": "code",
   "execution_count": 2,
   "id": "e11cfe3a",
   "metadata": {},
   "outputs": [
    {
     "name": "stdout",
     "output_type": "stream",
     "text": [
      "hello world\n"
     ]
    }
   ],
   "source": [
    "#examples\n",
    "print(\"hello world\")"
   ]
  },
  {
   "cell_type": "code",
   "execution_count": 3,
   "id": "8e7ee7c4",
   "metadata": {},
   "outputs": [
    {
     "data": {
      "text/plain": [
       "int"
      ]
     },
     "execution_count": 3,
     "metadata": {},
     "output_type": "execute_result"
    }
   ],
   "source": [
    "a=2;\n",
    "type(a)"
   ]
  },
  {
   "cell_type": "code",
   "execution_count": 4,
   "id": "5b3cd567",
   "metadata": {},
   "outputs": [
    {
     "name": "stdout",
     "output_type": "stream",
     "text": [
      "pw skills\n"
     ]
    }
   ],
   "source": [
    "a=\"pw skills\";\n",
    "print(a)"
   ]
  },
  {
   "cell_type": "code",
   "execution_count": 12,
   "id": "66345568",
   "metadata": {},
   "outputs": [
    {
     "data": {
      "text/plain": [
       "str"
      ]
     },
     "execution_count": 12,
     "metadata": {},
     "output_type": "execute_result"
    }
   ],
   "source": [
    "i=2;\n",
    "s=str(i);\n",
    "type(s)"
   ]
  },
  {
   "cell_type": "markdown",
   "id": "883144f4",
   "metadata": {},
   "source": [
    "# 3.Compare and contrast mutable and immutable objects in Python with examples"
   ]
  },
  {
   "cell_type": "markdown",
   "id": "aec349d7",
   "metadata": {},
   "source": [
    "Mutable Objects: Their contents can be changed without creating a new object. Suitable for scenarios where objects need to be modified frequently.\n",
    "Immutable Objects: Their contents cannot be changed once created. Suitable for scenarios where objects not to be modified frequently."
   ]
  },
  {
   "cell_type": "code",
   "execution_count": 13,
   "id": "a80b92f8",
   "metadata": {},
   "outputs": [
    {
     "data": {
      "text/plain": [
       "[1, 2, 'hello world']"
      ]
     },
     "execution_count": 13,
     "metadata": {},
     "output_type": "execute_result"
    }
   ],
   "source": [
    "#Examples of mutable objects:\n",
    "#List,dictionary,set\n",
    "a=[1,2,\"hello world\"]\n",
    "a"
   ]
  },
  {
   "cell_type": "code",
   "execution_count": 14,
   "id": "e79cb869",
   "metadata": {},
   "outputs": [
    {
     "data": {
      "text/plain": [
       "list"
      ]
     },
     "execution_count": 14,
     "metadata": {},
     "output_type": "execute_result"
    }
   ],
   "source": [
    "type(a)"
   ]
  },
  {
   "cell_type": "code",
   "execution_count": 16,
   "id": "52d1d504",
   "metadata": {},
   "outputs": [
    {
     "data": {
      "text/plain": [
       "{2, 5, 'modern'}"
      ]
     },
     "execution_count": 16,
     "metadata": {},
     "output_type": "execute_result"
    }
   ],
   "source": [
    "b={2,5,\"modern\"}\n",
    "b"
   ]
  },
  {
   "cell_type": "code",
   "execution_count": 17,
   "id": "7d085f9b",
   "metadata": {},
   "outputs": [
    {
     "data": {
      "text/plain": [
       "set"
      ]
     },
     "execution_count": 17,
     "metadata": {},
     "output_type": "execute_result"
    }
   ],
   "source": [
    "type(b)"
   ]
  },
  {
   "cell_type": "code",
   "execution_count": 24,
   "id": "2147728a",
   "metadata": {},
   "outputs": [
    {
     "data": {
      "text/plain": [
       "{'name': 'Revathi', 'Course': 'Data Science'}"
      ]
     },
     "execution_count": 24,
     "metadata": {},
     "output_type": "execute_result"
    }
   ],
   "source": [
    "c={\"name\":\"Revathi\",\"Course\":\"Data Science\"}\n",
    "c"
   ]
  },
  {
   "cell_type": "code",
   "execution_count": 22,
   "id": "8ad300a7",
   "metadata": {},
   "outputs": [
    {
     "data": {
      "text/plain": [
       "dict"
      ]
     },
     "execution_count": 22,
     "metadata": {},
     "output_type": "execute_result"
    }
   ],
   "source": [
    "type(c)"
   ]
  },
  {
   "cell_type": "code",
   "execution_count": 25,
   "id": "394737f3",
   "metadata": {},
   "outputs": [
    {
     "data": {
      "text/plain": [
       "'python'"
      ]
     },
     "execution_count": 25,
     "metadata": {},
     "output_type": "execute_result"
    }
   ],
   "source": [
    "#immutable objects\n",
    "a=\"python\"\n",
    "a"
   ]
  },
  {
   "cell_type": "code",
   "execution_count": 26,
   "id": "dfa44111",
   "metadata": {},
   "outputs": [
    {
     "data": {
      "text/plain": [
       "str"
      ]
     },
     "execution_count": 26,
     "metadata": {},
     "output_type": "execute_result"
    }
   ],
   "source": [
    "type(a)"
   ]
  },
  {
   "cell_type": "code",
   "execution_count": 28,
   "id": "7c3331f6",
   "metadata": {},
   "outputs": [
    {
     "data": {
      "text/plain": [
       "(1, 'name', 3.4)"
      ]
     },
     "execution_count": 28,
     "metadata": {},
     "output_type": "execute_result"
    }
   ],
   "source": [
    "s=(1,\"name\",3.4)\n",
    "s"
   ]
  },
  {
   "cell_type": "code",
   "execution_count": 29,
   "id": "f7e4afb7",
   "metadata": {},
   "outputs": [
    {
     "data": {
      "text/plain": [
       "tuple"
      ]
     },
     "execution_count": 29,
     "metadata": {},
     "output_type": "execute_result"
    }
   ],
   "source": [
    "type(s)"
   ]
  },
  {
   "cell_type": "markdown",
   "id": "7bd4d286",
   "metadata": {},
   "source": [
    "# 4.Discuss the different types of operators in Python and provide examples of how they are used"
   ]
  },
  {
   "cell_type": "markdown",
   "id": "ac6ab328",
   "metadata": {},
   "source": [
    " In Python, operators are special symbols that perform operations on values and variables. They are categorized into several types based on their function.\n",
    "1. Arithmetic Operators:\n",
    "These operators perform mathematical operations.\n",
    "2. Comparison Operators:\n",
    "These operators compare two values and return a Boolean result (True or False).\n",
    "3. Logical Operators:\n",
    "These operators perform logical operations on Boolean values.\n",
    "4. Assignment Operators:\n",
    "These operators assign values to variables.\n",
    "5. Bitwise Operators:\n",
    "These operators perform operations on the binary representations of integers.\n"
   ]
  },
  {
   "cell_type": "code",
   "execution_count": 4,
   "id": "ea660b1f",
   "metadata": {},
   "outputs": [
    {
     "name": "stdout",
     "output_type": "stream",
     "text": [
      "8\n"
     ]
    }
   ],
   "source": [
    "#Arithmetic operators:(+,-,*,/,)\n",
    "a=6\n",
    "b=2\n",
    "c=a+b\n",
    "print(c)"
   ]
  },
  {
   "cell_type": "code",
   "execution_count": 5,
   "id": "dc46ee0b",
   "metadata": {},
   "outputs": [
    {
     "name": "stdout",
     "output_type": "stream",
     "text": [
      "4\n"
     ]
    }
   ],
   "source": [
    "c=a-b\n",
    "print(c)"
   ]
  },
  {
   "cell_type": "code",
   "execution_count": 6,
   "id": "6beceb85",
   "metadata": {},
   "outputs": [
    {
     "name": "stdout",
     "output_type": "stream",
     "text": [
      "12\n"
     ]
    }
   ],
   "source": [
    "c=a*b\n",
    "print(c)"
   ]
  },
  {
   "cell_type": "code",
   "execution_count": 8,
   "id": "9f3347dc",
   "metadata": {},
   "outputs": [
    {
     "name": "stdout",
     "output_type": "stream",
     "text": [
      "3.0\n"
     ]
    }
   ],
   "source": [
    "c=a/b\n",
    "print(c)"
   ]
  },
  {
   "cell_type": "code",
   "execution_count": 9,
   "id": "2d74ee87",
   "metadata": {},
   "outputs": [
    {
     "data": {
      "text/plain": [
       "False"
      ]
     },
     "execution_count": 9,
     "metadata": {},
     "output_type": "execute_result"
    }
   ],
   "source": [
    "#comparision operator(==,<=,>=,!=,<,>)\n",
    "a=8\n",
    "b=2\n",
    "a==b"
   ]
  },
  {
   "cell_type": "code",
   "execution_count": 10,
   "id": "e3f181ba",
   "metadata": {},
   "outputs": [
    {
     "data": {
      "text/plain": [
       "False"
      ]
     },
     "execution_count": 10,
     "metadata": {},
     "output_type": "execute_result"
    }
   ],
   "source": [
    "a<=b"
   ]
  },
  {
   "cell_type": "code",
   "execution_count": 11,
   "id": "b306cd93",
   "metadata": {},
   "outputs": [
    {
     "data": {
      "text/plain": [
       "True"
      ]
     },
     "execution_count": 11,
     "metadata": {},
     "output_type": "execute_result"
    }
   ],
   "source": [
    "a>=b"
   ]
  },
  {
   "cell_type": "code",
   "execution_count": 12,
   "id": "f1be428e",
   "metadata": {},
   "outputs": [
    {
     "data": {
      "text/plain": [
       "True"
      ]
     },
     "execution_count": 12,
     "metadata": {},
     "output_type": "execute_result"
    }
   ],
   "source": [
    "a!=b"
   ]
  },
  {
   "cell_type": "code",
   "execution_count": 13,
   "id": "b72960e4",
   "metadata": {},
   "outputs": [
    {
     "data": {
      "text/plain": [
       "False"
      ]
     },
     "execution_count": 13,
     "metadata": {},
     "output_type": "execute_result"
    }
   ],
   "source": [
    "a<b"
   ]
  },
  {
   "cell_type": "code",
   "execution_count": 14,
   "id": "5e800146",
   "metadata": {},
   "outputs": [
    {
     "data": {
      "text/plain": [
       "True"
      ]
     },
     "execution_count": 14,
     "metadata": {},
     "output_type": "execute_result"
    }
   ],
   "source": [
    "a>b"
   ]
  },
  {
   "cell_type": "code",
   "execution_count": 17,
   "id": "306dafcf",
   "metadata": {},
   "outputs": [
    {
     "name": "stdout",
     "output_type": "stream",
     "text": [
      "False\n"
     ]
    }
   ],
   "source": [
    "#logical operators(AND,OR,NOT)\n",
    "a=4\n",
    "b=6\n",
    "c= (a > 2 and b < 5)\n",
    "print(c)"
   ]
  },
  {
   "cell_type": "code",
   "execution_count": 18,
   "id": "27703dc4",
   "metadata": {},
   "outputs": [
    {
     "name": "stdout",
     "output_type": "stream",
     "text": [
      "True\n"
     ]
    }
   ],
   "source": [
    "c= (a > 2 or b > 5)\n",
    "print(c)"
   ]
  },
  {
   "cell_type": "code",
   "execution_count": 19,
   "id": "ff7186ba",
   "metadata": {},
   "outputs": [
    {
     "name": "stdout",
     "output_type": "stream",
     "text": [
      "False\n"
     ]
    }
   ],
   "source": [
    "c= not (a > 2)\n",
    "print(c)"
   ]
  },
  {
   "cell_type": "code",
   "execution_count": 20,
   "id": "ec056d89",
   "metadata": {},
   "outputs": [
    {
     "name": "stdout",
     "output_type": "stream",
     "text": [
      "8\n"
     ]
    }
   ],
   "source": [
    "#Assignment operator(=,+=,-=,*=,/=)\n",
    "a=6\n",
    "b=2\n",
    "a+=b\n",
    "print(a)"
   ]
  },
  {
   "cell_type": "code",
   "execution_count": 21,
   "id": "05c3f500",
   "metadata": {},
   "outputs": [
    {
     "name": "stdout",
     "output_type": "stream",
     "text": [
      "6\n"
     ]
    }
   ],
   "source": [
    "a-=b\n",
    "print(a)"
   ]
  },
  {
   "cell_type": "code",
   "execution_count": 23,
   "id": "f73ae529",
   "metadata": {},
   "outputs": [
    {
     "name": "stdout",
     "output_type": "stream",
     "text": [
      "24\n"
     ]
    }
   ],
   "source": [
    "a*=b\n",
    "print(a)"
   ]
  },
  {
   "cell_type": "code",
   "execution_count": 24,
   "id": "1aa4bfee",
   "metadata": {},
   "outputs": [
    {
     "name": "stdout",
     "output_type": "stream",
     "text": [
      "12.0\n"
     ]
    }
   ],
   "source": [
    "a/=b\n",
    "print(a)"
   ]
  },
  {
   "cell_type": "code",
   "execution_count": 26,
   "id": "a9547c6b",
   "metadata": {},
   "outputs": [
    {
     "name": "stdout",
     "output_type": "stream",
     "text": [
      "1\n"
     ]
    }
   ],
   "source": [
    "#Bitwise operator(&,|,^,~,<<,>>)\n",
    "a=3\n",
    "b=2\n",
    "result = 5 & 3\n",
    "print(result)"
   ]
  },
  {
   "cell_type": "code",
   "execution_count": 27,
   "id": "97f77efa",
   "metadata": {},
   "outputs": [
    {
     "name": "stdout",
     "output_type": "stream",
     "text": [
      "7\n"
     ]
    }
   ],
   "source": [
    "result = 5 | 3\n",
    "print(result)"
   ]
  },
  {
   "cell_type": "code",
   "execution_count": 28,
   "id": "32f3ce93",
   "metadata": {},
   "outputs": [
    {
     "name": "stdout",
     "output_type": "stream",
     "text": [
      "6\n"
     ]
    }
   ],
   "source": [
    "result = 5 ^ 3\n",
    "print(result)"
   ]
  },
  {
   "cell_type": "code",
   "execution_count": 29,
   "id": "f7165306",
   "metadata": {},
   "outputs": [
    {
     "name": "stdout",
     "output_type": "stream",
     "text": [
      "-6\n"
     ]
    }
   ],
   "source": [
    "result = ~5\n",
    "print(result)"
   ]
  },
  {
   "cell_type": "code",
   "execution_count": 30,
   "id": "d9eaa716",
   "metadata": {},
   "outputs": [
    {
     "name": "stdout",
     "output_type": "stream",
     "text": [
      "10\n"
     ]
    }
   ],
   "source": [
    "result = 5 << 1\n",
    "print(result)"
   ]
  },
  {
   "cell_type": "code",
   "execution_count": 31,
   "id": "b5201cd4",
   "metadata": {},
   "outputs": [
    {
     "name": "stdout",
     "output_type": "stream",
     "text": [
      "2\n"
     ]
    }
   ],
   "source": [
    "result = 5 >> 1\n",
    "print(result)"
   ]
  },
  {
   "cell_type": "markdown",
   "id": "4ea0c58d",
   "metadata": {},
   "source": [
    "# 5.Explain the concept of type casting in Python with examples"
   ]
  },
  {
   "cell_type": "markdown",
   "id": "3dfc45dc",
   "metadata": {},
   "source": [
    "Type casting (or type conversion) in Python refers to the process of converting a value from one data type to another. Python provides several built-in functions for type casting."
   ]
  },
  {
   "cell_type": "code",
   "execution_count": 33,
   "id": "27720639",
   "metadata": {},
   "outputs": [
    {
     "name": "stdout",
     "output_type": "stream",
     "text": [
      "10.0\n"
     ]
    }
   ],
   "source": [
    "a=10\n",
    "b=float(a)\n",
    "print(b)\n"
   ]
  },
  {
   "cell_type": "code",
   "execution_count": 34,
   "id": "4f370928",
   "metadata": {},
   "outputs": [
    {
     "name": "stdout",
     "output_type": "stream",
     "text": [
      "7\n"
     ]
    }
   ],
   "source": [
    "a=7\n",
    "b=str(a)\n",
    "print(b)"
   ]
  },
  {
   "cell_type": "code",
   "execution_count": 35,
   "id": "50d8bad6",
   "metadata": {},
   "outputs": [
    {
     "data": {
      "text/plain": [
       "str"
      ]
     },
     "execution_count": 35,
     "metadata": {},
     "output_type": "execute_result"
    }
   ],
   "source": [
    "type(b)"
   ]
  },
  {
   "cell_type": "code",
   "execution_count": 36,
   "id": "4dcf3f19",
   "metadata": {},
   "outputs": [
    {
     "name": "stdout",
     "output_type": "stream",
     "text": [
      "22\n"
     ]
    }
   ],
   "source": [
    "a=22.3\n",
    "b=int(a)\n",
    "print(b)"
   ]
  },
  {
   "cell_type": "code",
   "execution_count": 37,
   "id": "e4f07c30",
   "metadata": {},
   "outputs": [
    {
     "data": {
      "text/plain": [
       "['p', 'w', 's', 'k', 'i', 'l', 'l', 's']"
      ]
     },
     "execution_count": 37,
     "metadata": {},
     "output_type": "execute_result"
    }
   ],
   "source": [
    "str=\"pwskills\"\n",
    "list=list(str)\n",
    "list"
   ]
  },
  {
   "cell_type": "code",
   "execution_count": 38,
   "id": "2ee74ff2",
   "metadata": {},
   "outputs": [
    {
     "data": {
      "text/plain": [
       "(1, 2, 3)"
      ]
     },
     "execution_count": 38,
     "metadata": {},
     "output_type": "execute_result"
    }
   ],
   "source": [
    "list=[1,2,3]\n",
    "tuple=tuple(list)\n",
    "tuple"
   ]
  },
  {
   "cell_type": "code",
   "execution_count": 39,
   "id": "3662e3db",
   "metadata": {},
   "outputs": [
    {
     "data": {
      "text/plain": [
       "tuple"
      ]
     },
     "execution_count": 39,
     "metadata": {},
     "output_type": "execute_result"
    }
   ],
   "source": [
    "type(tuple)"
   ]
  },
  {
   "cell_type": "markdown",
   "id": "689c5104",
   "metadata": {},
   "source": [
    "# 6.How do conditional statements work in Python? Illustrate with examples"
   ]
  },
  {
   "cell_type": "markdown",
   "id": "48359f6d",
   "metadata": {},
   "source": [
    "Conditional statements in Python allow you to execute certain blocks of code based on specific conditions. They are essential for making decisions in your programs. Python provides several types of conditional statements, including if, elif, and else."
   ]
  },
  {
   "cell_type": "code",
   "execution_count": 40,
   "id": "b10dd9a5",
   "metadata": {},
   "outputs": [
    {
     "name": "stdout",
     "output_type": "stream",
     "text": [
      "x is greater than 5\n"
     ]
    }
   ],
   "source": [
    "x = 10\n",
    "\n",
    "if x > 5:\n",
    "    print(\"x is greater than 5\")"
   ]
  },
  {
   "cell_type": "code",
   "execution_count": 41,
   "id": "37e8b5d0",
   "metadata": {},
   "outputs": [
    {
     "name": "stdout",
     "output_type": "stream",
     "text": [
      "x is not greater than 5\n"
     ]
    }
   ],
   "source": [
    "x = 3\n",
    "\n",
    "if x > 5:\n",
    "    print(\"x is greater than 5\")\n",
    "else:\n",
    "    print(\"x is not greater than 5\")"
   ]
  },
  {
   "cell_type": "code",
   "execution_count": 42,
   "id": "fc0a6226",
   "metadata": {},
   "outputs": [
    {
     "name": "stdout",
     "output_type": "stream",
     "text": [
      "x is greater than 5 but not greater than 10\n"
     ]
    }
   ],
   "source": [
    "x = 7\n",
    "\n",
    "if x > 10:\n",
    "    print(\"x is greater than 10\")\n",
    "elif x > 5:\n",
    "    print(\"x is greater than 5 but not greater than 10\")\n",
    "else:\n",
    "    print(\"x is 5 or less\")"
   ]
  },
  {
   "cell_type": "code",
   "execution_count": 43,
   "id": "3a5b416e",
   "metadata": {},
   "outputs": [
    {
     "name": "stdout",
     "output_type": "stream",
     "text": [
      "x is greater than 5 and y is greater than 10\n"
     ]
    }
   ],
   "source": [
    "x = 8\n",
    "y = 12\n",
    "\n",
    "if x > 5:\n",
    "    if y > 10:\n",
    "        print(\"x is greater than 5 and y is greater than 10\")\n",
    "    else:\n",
    "        print(\"x is greater than 5 but y is not greater than 10\")\n",
    "else:\n",
    "    print(\"x is 5 or less\")"
   ]
  },
  {
   "cell_type": "markdown",
   "id": "83269633",
   "metadata": {},
   "source": [
    "# 7.Describe the different types of loops in Python and their use cases with examples."
   ]
  },
  {
   "cell_type": "markdown",
   "id": "15d5e693",
   "metadata": {},
   "source": [
    "In Python, loops are used to execute a block of code repeatedly based on certain conditions. There are two primary types of loops in Python: for loops and while loops. Each type has its specific use cases and syntax.\n",
    "1.FOR loop:The for loop in Python is used to iterate over a sequence (such as a list, tuple, string, or range) or any iterable object. It is particularly useful when you know in advance how many times you want to execute a block of code.\n",
    "2.WHILE LOOP:The while loop repeatedly executes a block of code as long as a given condition is True. It is useful when the number of iterations is not known beforehand and depends on dynamic conditions."
   ]
  },
  {
   "cell_type": "code",
   "execution_count": 44,
   "id": "ee430c18",
   "metadata": {},
   "outputs": [
    {
     "name": "stdout",
     "output_type": "stream",
     "text": [
      "0\n",
      "1\n",
      "2\n",
      "3\n",
      "4\n"
     ]
    }
   ],
   "source": [
    "count = 0\n",
    "\n",
    "while count < 5:\n",
    "    print(count)\n",
    "    count += 1"
   ]
  },
  {
   "cell_type": "code",
   "execution_count": 45,
   "id": "6187294e",
   "metadata": {},
   "outputs": [
    {
     "name": "stdout",
     "output_type": "stream",
     "text": [
      "0\n",
      "1\n",
      "2\n",
      "3\n",
      "4\n"
     ]
    }
   ],
   "source": [
    "for i in range(10):\n",
    "    if i == 5:\n",
    "        break\n",
    "    print(i)"
   ]
  },
  {
   "cell_type": "code",
   "execution_count": 46,
   "id": "b9ec3470",
   "metadata": {},
   "outputs": [
    {
     "name": "stdout",
     "output_type": "stream",
     "text": [
      "0\n",
      "1\n",
      "2\n",
      "4\n"
     ]
    }
   ],
   "source": [
    "for i in range(5):\n",
    "    if i == 3:\n",
    "        continue\n",
    "    print(i)"
   ]
  },
  {
   "cell_type": "code",
   "execution_count": null,
   "id": "2e13ebcb",
   "metadata": {},
   "outputs": [],
   "source": []
  }
 ],
 "metadata": {
  "kernelspec": {
   "display_name": "Python 3 (ipykernel)",
   "language": "python",
   "name": "python3"
  },
  "language_info": {
   "codemirror_mode": {
    "name": "ipython",
    "version": 3
   },
   "file_extension": ".py",
   "mimetype": "text/x-python",
   "name": "python",
   "nbconvert_exporter": "python",
   "pygments_lexer": "ipython3",
   "version": "3.9.13"
  }
 },
 "nbformat": 4,
 "nbformat_minor": 5
}
